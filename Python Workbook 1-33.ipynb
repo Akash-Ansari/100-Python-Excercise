{
 "cells": [
  {
   "cell_type": "markdown",
   "metadata": {},
   "source": [
    "**1) Create a program that displays your name and complete mailing address formatted in the manner that you would usually see it on the outside of an envelope. Your program does not need to read any input from the user.**"
   ]
  },
  {
   "cell_type": "code",
   "execution_count": 1,
   "metadata": {},
   "outputs": [
    {
     "name": "stdout",
     "output_type": "stream",
     "text": [
      "Akash Ansari.\n",
      "#### #### St. Apt. ###, Toledo\n",
      "OH ####\n",
      "None\n"
     ]
    }
   ],
   "source": [
    "def mailing_address():\n",
    "    \"\"\" \n",
    "    This program will print my mailing address.\n",
    "    \"\"\"\n",
    "    print(\"Akash Ansari.\")\n",
    "    print(\"#### #### St. Apt. ###, Toledo\")\n",
    "    print(\"OH ####\")\n",
    "    \n",
    "print(mailing_address()) # at the end the function will return a 'None'. \n",
    "# Since we are just printing not returning anything explicitly so python will call 'None' implicitly."
   ]
  },
  {
   "cell_type": "markdown",
   "metadata": {},
   "source": [
    "**2)Write a program that asks the user to enter his or her name. The program should\n",
    "respond with a message that says hello to the user, using his or her name.**"
   ]
  },
  {
   "cell_type": "code",
   "execution_count": 7,
   "metadata": {},
   "outputs": [
    {
     "name": "stdout",
     "output_type": "stream",
     "text": [
      "Akash\n",
      "hello, Akash.\n"
     ]
    }
   ],
   "source": [
    "def say_hello():\n",
    "    name = str(input())\n",
    "    return \"hello, {}.\".format(name)\n",
    "print(say_hello())"
   ]
  },
  {
   "cell_type": "markdown",
   "metadata": {},
   "source": [
    "** 3) Write a program that asks the user to enter the width and length of a room. Once\n",
    "the values have been read, your program should compute and display the area of the\n",
    "room. The length and the width will be entered as floating point numbers. Include\n",
    "units in your prompt and output message; either feet or meters, depending on which\n",
    "unit you are more comfortable working with.**"
   ]
  },
  {
   "cell_type": "code",
   "execution_count": 11,
   "metadata": {},
   "outputs": [
    {
     "name": "stdout",
     "output_type": "stream",
     "text": [
      "25\n",
      "26\n",
      "Area of the room is 650.0 sq. feets\n"
     ]
    }
   ],
   "source": [
    "def area_of_a_room():\n",
    "    length = float(input())\n",
    "    width = float(input())\n",
    "    area = length * width\n",
    "    return \"Area of the room is {} sq. feets\".format(area)\n",
    "print(area_of_a_room())"
   ]
  },
  {
   "cell_type": "markdown",
   "metadata": {},
   "source": [
    "**4) Create a program that reads the length and width of a farmer’s field from the user in\n",
    "feet. Display the area of the field in acres.\n",
    "Hint: There are 43,560 square feet in an acre.**"
   ]
  },
  {
   "cell_type": "code",
   "execution_count": 12,
   "metadata": {},
   "outputs": [
    {
     "name": "stdout",
     "output_type": "stream",
     "text": [
      "Provide the length and width of the field in feets: \n",
      "250\n",
      "250\n",
      "Area of the field 62500.0 sq. feets.\n"
     ]
    }
   ],
   "source": [
    "def area_of_a_field():\n",
    "    print(\"Provide the length and width of the field in feets: \")\n",
    "    length = float(input())\n",
    "    width = float(input())\n",
    "    area = length * width\n",
    "    return \"Area of the field {} sq. feets.\".format(area)\n",
    "print(area_of_a_field())"
   ]
  },
  {
   "cell_type": "markdown",
   "metadata": {},
   "source": [
    "**5) In many jurisdictions a small deposit is added to drink containers to encourage people\n",
    "to recycle them. In one particular jurisdiction, drink containers holding one liter or\n",
    "less have a 0.10 dollar deposit, and drink containers holding more than one liter have a\n",
    "0.25 dollar deposit.\n",
    "Write a program that reads the number of containers of each size from the user.\n",
    "Your program should continue by computing and displaying the refund that will be\n",
    "received for returning those containers. Format the output so that it includes a dollar\n",
    "sign and always displays exactly two decimal places.**"
   ]
  },
  {
   "cell_type": "code",
   "execution_count": 15,
   "metadata": {},
   "outputs": [
    {
     "name": "stdout",
     "output_type": "stream",
     "text": [
      "How many containers of size 1 litre or less you have: 5\n",
      "How many containers of size more than 1 litre you have: 6\n",
      "Your refund is $2.00\n"
     ]
    }
   ],
   "source": [
    "def bottle_deposits():\n",
    "    \n",
    "    less = 0.10\n",
    "    more = 0.25\n",
    "    \n",
    "    less_con = int(input(\"How many containers of size 1 litre or less you have: \"))\n",
    "    more_con = int(input(\"How many containers of size more than 1 litre you have: \"))\n",
    "    \n",
    "    refund = less * less_con + more * more_con\n",
    "    return \"Your refund is ${0:.2f}\".format(refund)\n",
    "print(bottle_deposits())"
   ]
  },
  {
   "cell_type": "markdown",
   "metadata": {},
   "source": [
    "**6) The program that you create for this exercise will begin by reading the cost of a meal\n",
    "ordered at a restaurant from the user. Then your program will compute the tax and\n",
    "tip for the meal. Use your local tax rate when computing the amount of tax owing.\n",
    "Compute the tip as 18 percent of the meal amount (without the tax). The output from\n",
    "your program should include the tax amount, the tip amount, and the grand total for\n",
    "the meal including both the tax and the tip. Format the output so that all of the values\n",
    "are displayed using two decimal places.** "
   ]
  },
  {
   "cell_type": "code",
   "execution_count": 18,
   "metadata": {},
   "outputs": [
    {
     "name": "stdout",
     "output_type": "stream",
     "text": [
      "What is the cost of the meal: 195\n",
      "tax amount = 9.75\n",
      "tip amount = 35.10\n",
      "Grand total = 239.85\n"
     ]
    }
   ],
   "source": [
    "def tax_and_tip():\n",
    "    cost = float(input(\"What is the cost of the meal: \"))\n",
    "    tax_rate = 0.05\n",
    "    tax = tax_rate * cost\n",
    "    tip = 0.18 * cost\n",
    "    total = cost + tax + tip\n",
    "    return \"tax amount = {0:.2f}\\ntip amount = {1:.2f}\\nGrand total = {2:.2f}\".format(tax, tip, total)\n",
    "print(tax_and_tip())"
   ]
  },
  {
   "cell_type": "markdown",
   "metadata": {},
   "source": [
    "**7) Write a program that reads a positive integer, n, from the user and then displays the\n",
    "sum of all of the integers from 1 to n. The sum of the first n positive integers can be\n",
    "computed using the formula:**"
   ]
  },
  {
   "cell_type": "code",
   "execution_count": 19,
   "metadata": {},
   "outputs": [
    {
     "name": "stdout",
     "output_type": "stream",
     "text": [
      "Provide a positive integer: 85\n",
      "3655.0\n"
     ]
    }
   ],
   "source": [
    "def sum_of_first_n():\n",
    "    n = int(input(\"Provide a positive integer: \"))\n",
    "    return (n * (n+1)) / 2\n",
    "print(sum_of_first_n())"
   ]
  },
  {
   "cell_type": "markdown",
   "metadata": {},
   "source": [
    "**8) An online retailer sells two products: widgets and gizmos. Each widget weighs 75\n",
    "grams. Each gizmo weighs 112 grams. Write a program that reads the number of\n",
    "widgets and the number of gizmos in an order from the user. Then your program\n",
    "should compute and display the total weight of the order.**"
   ]
  },
  {
   "cell_type": "code",
   "execution_count": null,
   "metadata": {
    "collapsed": true
   },
   "outputs": [],
   "source": [
    "def widgets_and_gizmos():\n",
    "    widget = int(input(\"No. of widgets ordered: \"))\n",
    "    gizmos = int(input(\"No. of gizmos ordered: \"))\n",
    "    w_widget = 75\n",
    "    w_gizmos = 112\n",
    "    t_widgets = widget * w_widget\n",
    "    t_gizmos = gizmos * w_gizmos\n",
    "    return \"total weight of widgets = {} gm.\\ntotal weight of gizmos = {} gm.\".format(t_widgets, t_gizmos)\n",
    "print(widgets_and_gizmos())"
   ]
  },
  {
   "cell_type": "markdown",
   "metadata": {},
   "source": [
    "**9) Pretend that you have just opened a new savings account that earns 4 percent interest\n",
    "per year. The interest that you earn is paid at the end of the year, and is added\n",
    "to the balance of the savings account. Write a program that begins by reading the\n",
    "amount of money deposited into the account from the user. Then your program should\n",
    "compute and display the amount in the savings account after 1, 2, and 3 years. Display\n",
    "each amount so that it is rounded to 2 decimal places.**"
   ]
  },
  {
   "cell_type": "code",
   "execution_count": 4,
   "metadata": {},
   "outputs": [
    {
     "name": "stdout",
     "output_type": "stream",
     "text": [
      "Deposit Amount = 25000\n",
      "The amount in the savings in the account after 1, 2 and 3 years are 26000.00, 27040.00 and 54080.04 respectively.\n"
     ]
    }
   ],
   "source": [
    "def compound_interest():\n",
    "    rate = 0.04\n",
    "    savings = float(input(\"Deposit Amount = \"))\n",
    "    interest1 = savings * rate\n",
    "    total1 = savings + interest1\n",
    "    interest2 = total1 * rate\n",
    "    total2 = total1 + interest2\n",
    "    interest3 = total2 + rate\n",
    "    total3 = total2 + interest3\n",
    "    return \"The amount in the savings in the account after 1, 2 and 3 years are {0:.2f}, {1:.2f} and {2:.2f} respectively.\".format(total1, total2, total3)\n",
    "print(compound_interest())"
   ]
  },
  {
   "cell_type": "markdown",
   "metadata": {},
   "source": [
    "**10)Create a program that reads two integers, a and b, from the user. Your program should\n",
    "compute and display:\n",
    "• The sum of a and b\n",
    "• The difference when b is subtracted from a\n",
    "• The product of a and b\n",
    "• The quotient when a is divided by b\n",
    "• The remainder when a is divided by b\n",
    "• The result of log10 a\n",
    "• The result of ab\n",
    "Hint: You will probably find the log10 function in the math module helpful\n",
    "for computing the second last item in the list.**"
   ]
  },
  {
   "cell_type": "code",
   "execution_count": 5,
   "metadata": {},
   "outputs": [
    {
     "name": "stdout",
     "output_type": "stream",
     "text": [
      "a = 5\n",
      "b = 87\n",
      "The sum of a and b: 92\n",
      "None\n"
     ]
    }
   ],
   "source": [
    "def arithmatic():\n",
    "    a = int(input(\"a = \"))\n",
    "    b = int(input(\"b = \"))\n",
    "    print(\"The sum of a and b: {}\".format(a+b))\n",
    "    print(\"The difference when b is subtracted from a: {}\".format(a-b))\n",
    "    print(\"The product of a and b: {}\".format(a*b))\n",
    "    print(\"The quotient when a is divided by b: {}\".format(a/b))\n",
    "    print(\"The remainder when a is divided by b: {}\".format(a%b))\n",
    "    print(\"The result of log10a: {}\".format(math.log(a, 10)))\n",
    "    print(\"The result of a\")\n",
    "print(arithmatic())"
   ]
  },
  {
   "cell_type": "markdown",
   "metadata": {},
   "source": [
    "**11) In the United States, fuel efficiency for vehicles is normally expressed in miles-pergallon (MPG). In Canada, fuel efficiency is normally expressed in liters-per-hundred\n",
    "kilometers (L/100 km). Use your research skills to determine how to convert from\n",
    "MPG to L/100 km. Then create a program that reads a value from the user in American\n",
    "units and displays the equivalent fuel efficiency in Canadian units.**"
   ]
  },
  {
   "cell_type": "code",
   "execution_count": 1,
   "metadata": {},
   "outputs": [
    {
     "name": "stdout",
     "output_type": "stream",
     "text": [
      "Enter the fuel measurement in MPG: 25\n",
      "9.4084\n"
     ]
    }
   ],
   "source": [
    "def fuel_eff():\n",
    "    mpg = float(input(\"Enter the fuel measurement in MPG: \"))\n",
    "    can = 235.21 / mpg \n",
    "    return can\n",
    "print(fuel_eff())\n"
   ]
  },
  {
   "cell_type": "markdown",
   "metadata": {},
   "source": [
    "**12) The surface of the Earth is curved, and the distance between degrees of longitude\n",
    "varies with latitude. As a result, finding the distance between two points on the surface\n",
    "of the Earth is more complicated than simply using the Pythagorean theorem.\n",
    "Let (t1, g1) and (t2, g2) be the latitude and longitude of two points on the Earth’s\n",
    "surface. The distance between these points, following the surface of the Earth, in\n",
    "kilometers is:\n",
    "distance = 6371.01 × arccos(sin(t1) × sin(t2) + cos(t1) × cos(t2) × cos(g1 − g2))\n",
    "The value 6371.01 in the previous equation wasn’t selected at random. It is\n",
    "the average radius of the Earth in kilometers.\n",
    "Create a program that allows the user to enter the latitude and longitude of two\n",
    "points on the Earth in degrees. Your program should display the distance between\n",
    "the points, following the surface of the earth, in kilometers.\n",
    "Hint: Python’s trigonometric functions operate in radians. As a result, you will\n",
    "need to convert the user’s input from degrees to radians before computing the\n",
    "distance with the formula discussed previously. The math module contains a\n",
    "function named radians which converts from degrees to radians.\n",
    "**"
   ]
  },
  {
   "cell_type": "code",
   "execution_count": 9,
   "metadata": {},
   "outputs": [
    {
     "name": "stdout",
     "output_type": "stream",
     "text": [
      "Enter the longitude of the first place: 45\n",
      "Enter the latitude of the first place: 25\n",
      "Enter the longitude of the second place: 15\n",
      "Enter the latitude of the second place: 35\n",
      "The distance between the two points is 9897.10092307831\n"
     ]
    }
   ],
   "source": [
    "def distance():\n",
    "    t1 = float(input(\"Enter the longitude of the first place: \"))\n",
    "    g1 = float(input(\"Enter the latitude of the first place: \"))\n",
    "    t2 = float(input(\"Enter the longitude of the second place: \"))\n",
    "    g2 = float(input(\"Enter the latitude of the second place: \"))\n",
    "    d = 6371.01 * math.acos(math.radians(math.sin(t1) * math.sin(t2) + math.cos(t1) * math.cos(t2) - math.cos(g1-g2)))\n",
    "    return \"The distance between the two points is {}\".format(d)\n",
    "import math\n",
    "print(distance())"
   ]
  },
  {
   "cell_type": "markdown",
   "metadata": {},
   "source": [
    "**13) Consider the software that runs on a self-checkout machine. One task that it must be\n",
    "able to perform is to determine how much change to provide when the shopper pays\n",
    "for a purchase with cash.\n",
    "Write a program that begins by reading a number of cents from the user as an\n",
    "integer. Then your program should compute and display the denominations of the\n",
    "coins that should be used to give that amount of change to the shopper. The change\n",
    "should be given using as few coins as possible. Assume that the machine is loaded\n",
    "with pennies, nickels, dimes, quarters, loonies and toonies.\n",
    "A one dollar coin was introduced in Canada in 1987. It is referred to as a\n",
    "loonie because one side of the coin has a loon (a type of bird) on it. The two\n",
    "dollar coin, referred to as a toonie, was introduced 9 years later. It’s name is\n",
    "derived from the combination of the number two and the name of the loonie.**"
   ]
  },
  {
   "cell_type": "code",
   "execution_count": 15,
   "metadata": {},
   "outputs": [
    {
     "name": "stdout",
     "output_type": "stream",
     "text": [
      "Enter the amount in cents: 1135\n",
      "You will get 5 toonies, 1 loonies, 1 quarters, 1 dimes, 0 nickels and 0 pennis.\n"
     ]
    }
   ],
   "source": [
    "def making_change():\n",
    "    toonies = 200\n",
    "    loonies = 100\n",
    "    quarters = 25\n",
    "    dimes = 10\n",
    "    nickels = 5\n",
    "    pennis = 1\n",
    "    cent = int(input(\"Enter the amount in cents: \"))\n",
    "    t = cent // toonies\n",
    "    cent = cent % toonies\n",
    "    l = cent // loonies\n",
    "    cent = cent % loonies\n",
    "    q = cent // quarters\n",
    "    cent = cent % quarters\n",
    "    d = cent // dimes \n",
    "    cent = cent % dimes\n",
    "    n = cent // nickels \n",
    "    cent = cent % nickels\n",
    "    p = cent // pennis\n",
    "    \n",
    "    return \"You will get {} toonies, {} loonies, {} quarters, {} dimes, {} nickels and {} pennis.\".format(t, l, q, d, n, p)\n",
    "    \n",
    "print(making_change())\n",
    "            \n",
    "            "
   ]
  },
  {
   "cell_type": "markdown",
   "metadata": {},
   "source": [
    "**14) Many people think about their height in feet and inches, even in some countries that\n",
    "primarily use the metric system. Write a program that reads a number of feet from\n",
    "the user, followed by a number of inches. Once these values are read, your program\n",
    "should compute and display the equivalent number of centimeters.\n",
    "Hint: One foot is 12 inches. One inch is 2.54 centimeters.**"
   ]
  },
  {
   "cell_type": "code",
   "execution_count": 17,
   "metadata": {},
   "outputs": [
    {
     "name": "stdout",
     "output_type": "stream",
     "text": [
      "Enter your height in feet and inches one by one.\n",
      "First enter the feet part: 5\n",
      "Now, enter the height part: 7\n",
      "Your height is 170.18 centimeters.\n"
     ]
    }
   ],
   "source": [
    "def height():\n",
    "    print(\"Enter your height in feet and inches one by one.\")\n",
    "    feet = int(input(\"First enter the feet part: \"))\n",
    "    inch = int(input(\"Now, enter the height part: \"))\n",
    "    centimeters = (feet * 12 + inch) * 2.54\n",
    "    \n",
    "    return \"Your height is {0:.2f} centimeters.\".format(centimeters)\n",
    "print(height())\n"
   ]
  },
  {
   "cell_type": "markdown",
   "metadata": {},
   "source": [
    "**15) In this exercise, you will create a program that begins by reading a measurement\n",
    "in feet from the user. Then your program should display the equivalent distance in\n",
    "inches, yards and miles. Use the Internet to look up the necessary conversion factors\n",
    "if you don’t have them memorized.**"
   ]
  },
  {
   "cell_type": "code",
   "execution_count": 5,
   "metadata": {},
   "outputs": [
    {
     "name": "stdout",
     "output_type": "stream",
     "text": [
      "Enter a measurement in feet: 65\n",
      "The distance is 780 in inches, 21.666645 in yards and 0.012311 in miles.\n"
     ]
    }
   ],
   "source": [
    "def distance():\n",
    "    feet = int(input(\"Enter a measurement in feet: \"))\n",
    "    inch = feet * 12\n",
    "    yard = feet * 0.333333\n",
    "    mile = feet * 0.000189394\n",
    "    \n",
    "    return \"The distance is {0} in inches, {1} in yards and {2:.6f} in miles.\".format(inch, yard, mile)\n",
    "print(distance())"
   ]
  },
  {
   "cell_type": "markdown",
   "metadata": {},
   "source": [
    "**16) Write a program that begins by reading a radius, r, from the user. The program will\n",
    "continue by computing and displaying the area of a circle with radius r and the\n",
    "volume of a sphere with radius r. Use the pi constant in the math module in your\n",
    "calculations.\n",
    "Hint: The area of a circle is computed using the formula area = πr^2. The\n",
    "volume of a sphere is computed using the formula volume = 43πr^3.**"
   ]
  },
  {
   "cell_type": "code",
   "execution_count": 6,
   "metadata": {},
   "outputs": [
    {
     "name": "stdout",
     "output_type": "stream",
     "text": [
      "Enter the radius: 45\n",
      "The area is 6361.725 sq. units.\n",
      "The volume is 381703.507 cubic units.\n"
     ]
    }
   ],
   "source": [
    "def area_volume():\n",
    "    rad = int(input(\"Enter the radius: \"))\n",
    "    area = math.pi * rad**2\n",
    "    volume = (4/3) * math.pi * rad**3\n",
    "    return \"The area is {0:.3f} sq. units.\\nThe volume is {1:.3f} cubic units.\".format(area, volume)\n",
    "import math\n",
    "print(area_volume())"
   ]
  },
  {
   "cell_type": "markdown",
   "metadata": {},
   "source": [
    "**17) The amount of energy required to increase the temperature of one gram of a material\n",
    "by one degree Celsius is the material’s specific heat capacity, C. The total amount\n",
    "of energy required to raise m grams of a material by ΔT degrees Celsius can be\n",
    "computed using the formula:\n",
    "q = mCΔT.\n",
    "Write a program that reads the mass of some water and the temperature change\n",
    "from the user. Your program should display the total amount of energy that must be\n",
    "added or removed to achieve the desired temperature change.\n",
    "Hint: The specific heat capacity of water is 4.186 J\n",
    "g◦C. Because water has a density of 1.0 gram per millilitre, you can use grams and millilitres interchangeably\n",
    "in this exercise.\n",
    "Extend your program so that it also computes the cost of heating the water. Electricity is normally billed using units of kilowatt hours rather than Joules. In this\n",
    "exercise, you should assume that electricity costs 8.9 cents per kilowatt-hour. Use\n",
    "your program to compute the cost of boiling water for a cup of coffee.**"
   ]
  },
  {
   "cell_type": "code",
   "execution_count": 1,
   "metadata": {},
   "outputs": [
    {
     "name": "stdout",
     "output_type": "stream",
     "text": [
      "Enter the mass in grams: 45\n",
      "Enter the temperature change in degree celcius: 25\n",
      "The total amount of energy 4709.250 jouls and the cost is 0.0117 cents\n"
     ]
    }
   ],
   "source": [
    "def heat_capacity():\n",
    "    mass = int(input(\"Enter the mass in grams: \"))\n",
    "    dtemp = int(input(\"Enter the temperature change in degree celcius: \"))\n",
    "    q = mass * dtemp * 4.186\n",
    "    cost = q * 2.8e-7 * 8.9\n",
    "    return \"The total amount of energy {0:.3f} jouls and the cost is {1:.4f} cents\".format(q, cost)\n",
    "print(heat_capacity())"
   ]
  },
  {
   "cell_type": "markdown",
   "metadata": {},
   "source": [
    "**18) The volume of a cylinder can be computed by multiplying the area of its circular\n",
    "base by its height. Write a program that reads the radius of the cylinder, along with\n",
    "its height, from the user and computes its volume. Display the result rounded to one\n",
    "decimal place.**"
   ]
  },
  {
   "cell_type": "code",
   "execution_count": 4,
   "metadata": {},
   "outputs": [
    {
     "name": "stdout",
     "output_type": "stream",
     "text": [
      "Enter the radius: 45\n",
      "Enter the height: 8\n",
      "The volume of the cylinder is 50893.8 cubic units.\n"
     ]
    }
   ],
   "source": [
    "def volume():\n",
    "    rad = float(input('Enter the radius: '))\n",
    "    h = float(input('Enter the height: '))\n",
    "    v = math.pi * rad**2 * h\n",
    "    return \"The volume of the cylinder is {0:.1f} cubic units.\".format(v)\n",
    "import math\n",
    "print(volume())"
   ]
  },
  {
   "cell_type": "markdown",
   "metadata": {},
   "source": [
    "**19) Create a program that determines how quickly an object is traveling when it hits the\n",
    "ground. The user will enter the height from which the object is dropped in meters (m).\n",
    "Because the object is dropped its initial speed is 0m/s. Assume that the acceleration\n",
    "due to gravity is 9.8m/s2. You can use the formula vf = sqrt(vi^2 + 2ad) to compute the\n",
    "final speed, vf , when the initial speed, vi, acceleration, a, and distance, d, are known.**"
   ]
  },
  {
   "cell_type": "code",
   "execution_count": 5,
   "metadata": {},
   "outputs": [
    {
     "name": "stdout",
     "output_type": "stream",
     "text": [
      "Enter the height: 85\n",
      "The speed is 40.82 m/s\n"
     ]
    }
   ],
   "source": [
    "def free_fall():\n",
    "    h = float(input('Enter the height: '))\n",
    "    a = 9.8\n",
    "    speed = math.sqrt(2 * a * h)\n",
    "    return \"The speed is {0:.2f} m/s\".format(speed)\n",
    "import math\n",
    "print(free_fall())"
   ]
  },
  {
   "cell_type": "markdown",
   "metadata": {},
   "source": [
    "**20) The ideal gas law is a mathematical approximation of the behavior of gasses as\n",
    "pressure, volume and temperature change. It is usually stated as:\n",
    "PV = nRT\n",
    "where P is the pressure in Pascals, V is the volume in liters, n is the amount of\n",
    "substance in moles, R is the ideal gas constant, equal to 8.314 mol K J , and T is the\n",
    "temperature in degrees Kelvin.\n",
    "Write a program that computes the amount of gas in moles when the user supplies\n",
    "the pressure, volume and temperature. Test your program by determining the number\n",
    "of moles of gas in a SCUBA tank. A typical SCUBA tank holds 12 liters of gas at\n",
    "a pressure of 20,000,000 Pascals (approximately 3,000 PSI). Room temperature is\n",
    "approximately 20 degrees Celsius or 68 degrees Fahrenheit.**"
   ]
  },
  {
   "cell_type": "code",
   "execution_count": 7,
   "metadata": {},
   "outputs": [
    {
     "name": "stdout",
     "output_type": "stream",
     "text": [
      "Enter the pressure: 20000000\n",
      "Enter the volume: 12\n",
      "Enter the tempeture: 20\n",
      "The amount of gas is 98471.67\n"
     ]
    }
   ],
   "source": [
    "def ideal_gas():\n",
    "    p = float(input('Enter the pressure: '))\n",
    "    v = float(input('Enter the volume: '))\n",
    "    t = float(input('Enter the tempeture: '))\n",
    "    t = t + 273.15\n",
    "    R = 8.314\n",
    "    n = (p*v) / (R*t)\n",
    "    return \"The amount of gas is {0:.2f}\".format(n)\n",
    "print(ideal_gas())"
   ]
  },
  {
   "cell_type": "markdown",
   "metadata": {},
   "source": [
    "**21) The area of a triangle can be computed using the following formula, where b is the\n",
    "length of the base of the triangle, and h is its height:\n",
    "area = (b × h)/2\n",
    "Write a program that allows the user to enter values for b and h. The program\n",
    "should then compute and display the area of a triangle with base length b and height h.**"
   ]
  },
  {
   "cell_type": "code",
   "execution_count": 8,
   "metadata": {},
   "outputs": [
    {
     "name": "stdout",
     "output_type": "stream",
     "text": [
      "Enter the base: 45.22\n",
      "Enter the height: 12.0001\n",
      "The area is 271.32 sq. units\n"
     ]
    }
   ],
   "source": [
    "def triangle():\n",
    "    b = float(input('Enter the base: '))\n",
    "    h = float(input('Enter the height: '))\n",
    "    a = b*h / 2\n",
    "    return \"The area is {0:.2f} sq. units\".format(a)\n",
    "print(triangle())"
   ]
  },
  {
   "cell_type": "markdown",
   "metadata": {},
   "source": [
    "**22)In the previous exercise you created a program that computed the area of a triangle\n",
    "when the length of its base and its height were known. It is also possible to compute\n",
    "the area of a triangle when the lengths of all three sides are known. Let s1, s2 and s3\n",
    "be the lengths of the sides. Let s = (s1 + s2 + s3)/2. Then the area of the triangle\n",
    "can be calculated using the following formula:\n",
    "area = sqrt(s × (s − s1) × (s − s2) × (s − s3))\n",
    "Develop a program that reads the lengths of the sides of a triangle from the user and\n",
    "displays its area.**"
   ]
  },
  {
   "cell_type": "code",
   "execution_count": 12,
   "metadata": {},
   "outputs": [
    {
     "name": "stdout",
     "output_type": "stream",
     "text": [
      "Enter the first side: 25.5\n",
      "Enter the second side: 14.65\n",
      "Enter the third side: 19.21\n",
      "The area is 139.72 sq units.\n"
     ]
    }
   ],
   "source": [
    "def triangle_1():\n",
    "    s1 = float(input(\"Enter the first side: \"))\n",
    "    s2 = float(input(\"Enter the second side: \"))\n",
    "    s3 = float(input(\"Enter the third side: \"))\n",
    "    s = (s1 + s2 + s3)/2\n",
    "    \n",
    "    area = math.sqrt(s*(s-s1)*(s-s2)*(s-s3))\n",
    "    return \"The area is {0:.2f} sq units.\".format(area)\n",
    "import math\n",
    "print(triangle_1())"
   ]
  },
  {
   "cell_type": "markdown",
   "metadata": {},
   "source": [
    "**23) A polygon is regular if its sides are all the same length and the angles between all of\n",
    "the adjacent sides are equal. The area of a regular polygon can be computed using\n",
    "the following formula, where s is the length of a side and n is the number of sides:\n",
    "area = (n × s^2)/ (4 × tan (π/n))\n",
    "Write a program that reads s and n from the user and then displays the area of a\n",
    "regular polygon constructed from these values.**"
   ]
  },
  {
   "cell_type": "code",
   "execution_count": 15,
   "metadata": {},
   "outputs": [
    {
     "name": "stdout",
     "output_type": "stream",
     "text": [
      "Enter the side length: 25\n",
      "Enter the number of sides: 5\n",
      "The area is 111.116 sq. units.\n"
     ]
    }
   ],
   "source": [
    "def polygon():\n",
    "    s = float(input(\"Enter the side length: \"))\n",
    "    n = float(input(\"Enter the number of sides: \"))\n",
    "    area = (n*s) / (4*math.tan(math.radians(math.pi*n)))\n",
    "    return \"The area is {0:.3f} sq. units.\".format(area)\n",
    "import math\n",
    "print(polygon())"
   ]
  },
  {
   "cell_type": "markdown",
   "metadata": {},
   "source": [
    "**24) Create a program that reads a duration from the user as a number of days, hours,\n",
    "minutes, and seconds. Compute and display the total number of seconds represented\n",
    "by this duration.**"
   ]
  },
  {
   "cell_type": "code",
   "execution_count": 16,
   "metadata": {},
   "outputs": [
    {
     "name": "stdout",
     "output_type": "stream",
     "text": [
      "Enter no. of days: 12\n",
      "Enter no. of hours: 0\n",
      "Enter no. of minutes: 25\n",
      "Enter no. of seconds: 14\n",
      "Total number of seconds = 1038360 seconds.\n"
     ]
    }
   ],
   "source": [
    "def duration():\n",
    "    d = int(input(\"Enter no. of days: \"))\n",
    "    h = int(input(\"Enter no. of hours: \"))\n",
    "    m = int(input(\"Enter no. of minutes: \"))\n",
    "    s = int(input(\"Enter no. of seconds: \"))\n",
    "    total = d*24*60*60 + h*60*60 + m*60 + 60\n",
    "    return \"Total number of seconds = {} seconds.\".format(total)\n",
    "print(duration())"
   ]
  },
  {
   "cell_type": "markdown",
   "metadata": {},
   "source": [
    "**25) In this exercise you will reverse the process described in the previous exercise.\n",
    "Develop a program that begins by reading a number of seconds from the user.\n",
    "Then your program should display the equivalent amount of time in the form\n",
    "D:HH:MM:SS, where D, HH, MM, and SS represent days, hours, minutes and seconds respectively. The hours, minutes and seconds should all be formatted so that\n",
    "they occupy exactly two digits, with a leading 0 displayed if necessary.**"
   ]
  },
  {
   "cell_type": "code",
   "execution_count": 23,
   "metadata": {},
   "outputs": [
    {
     "name": "stdout",
     "output_type": "stream",
     "text": [
      "Enter the seconds: 8562412\n",
      "The time is 99:02:26:52\n"
     ]
    }
   ],
   "source": [
    "def time():\n",
    "    s = int(input(\"Enter the seconds: \"))\n",
    "    d = s // (60*60*24)\n",
    "    rem = s % (60*60*24)\n",
    "    hr = rem // (60*60)\n",
    "    rem = rem % (60*60)\n",
    "    min_ = rem // 60\n",
    "    sec = rem % 60\n",
    "    \n",
    "    return \"The time is {0:02d}:{1:02d}:{2:02d}:{3:02d}\".format(d,hr,min_,sec)\n",
    "print(time())\n",
    "    \n",
    "    "
   ]
  },
  {
   "cell_type": "code",
   "execution_count": 26,
   "metadata": {},
   "outputs": [
    {
     "data": {
      "text/plain": [
       "2"
      ]
     },
     "execution_count": 26,
     "metadata": {},
     "output_type": "execute_result"
    }
   ],
   "source": [
    "8812//(60*60)"
   ]
  },
  {
   "cell_type": "markdown",
   "metadata": {},
   "source": [
    "**26) Python includes a library of functions for working with time, including a function\n",
    "called asctime in the time module. It reads the current time from the computer’s internal clock and returns it in a human-readable format. Write a program\n",
    "that displays the current time and date. Your program will not require any input from\n",
    "the user.**"
   ]
  },
  {
   "cell_type": "code",
   "execution_count": 27,
   "metadata": {},
   "outputs": [
    {
     "name": "stdout",
     "output_type": "stream",
     "text": [
      "Fri Jan 12 01:52:33 2018\n"
     ]
    }
   ],
   "source": [
    "import time\n",
    "print(time.asctime())"
   ]
  },
  {
   "cell_type": "markdown",
   "metadata": {},
   "source": [
    "**27) Write a program that computes the body mass index (BMI) of an individual. Your\n",
    "program should begin by reading a height and weight from the user. Then it should use one of the following two formulas to compute the BMI before displaying it.**"
   ]
  },
  {
   "cell_type": "code",
   "execution_count": 28,
   "metadata": {},
   "outputs": [
    {
     "name": "stdout",
     "output_type": "stream",
     "text": [
      "Enter weight in kilograms: 80\n",
      "Enter height in meters: 1.5\n",
      "The BMI is 35.555556 m/kg*kg.\n"
     ]
    }
   ],
   "source": [
    "def bmi():\n",
    "    w = float(input(\"Enter weight in kilograms: \"))\n",
    "    h = float(input(\"Enter height in meters: \"))\n",
    "    bmi = w/(h*h)\n",
    "    return \"The BMI is {0:2f} m/kg*kg.\".format(bmi)\n",
    "print(bmi())"
   ]
  },
  {
   "cell_type": "markdown",
   "metadata": {},
   "source": [
    "**28) When the wind blows in cold weather, the air feels even colder than it actually is\n",
    "because the movement of the air increases the rate of cooling for warm objects, like\n",
    "people. This effect is known as wind chill.\n",
    "In 2001, Canada, the United Kingdom and the United States adopted the following formula for computing the wind chill index. Within the formula Ta is the\n",
    "air temperature in degrees Celsius and V is the wind speed in kilometers per hour.\n",
    "A similar formula with different constant values can be used with temperatures in\n",
    "degrees Fahrenheit and wind speeds in miles per hour.\n",
    "WCI = 13.12 + 0.6215Ta − 11.37V 0.16 + 0.3965Ta*V^0.16\n",
    "Write a program that begins by reading the air temperature and wind speed from the\n",
    "user. Once these values have been read your program should display the wind chill\n",
    "index rounded to the closest integer.\n",
    "The wind chill index is only considered valid for temperatures less than or\n",
    "equal to 10 degrees Celsius and wind speeds exceeding 4.8 kilometers per\n",
    "hour.**"
   ]
  },
  {
   "cell_type": "code",
   "execution_count": 4,
   "metadata": {},
   "outputs": [
    {
     "name": "stdout",
     "output_type": "stream",
     "text": [
      "The wind chill index is only considered valid for temperatures less than or equal to 10 degrees Celsius and wind speeds exceeding 4.8 kilometers per hour.\n",
      "Enter the temperature: 5\n",
      "Enter the wind speed: 6\n",
      "The wind chill is 4\n"
     ]
    }
   ],
   "source": [
    "def wind_chill():\n",
    "    print(\"The wind chill index is only considered valid for temperatures less than or equal to 10 degrees Celsius and wind speeds exceeding 4.8 kilometers per hour.\")\n",
    "    ta = float(input(\"Enter the temperature: \"))\n",
    "    wind = float(input(\"Enter the wind speed: \"))\n",
    "    wc = round(13.12 + (0.6215*ta) - (11.37*wind**0.16) + (0.3965*ta*wind**0.16))\n",
    "    return \"The wind chill is {}\".format(wc)\n",
    "print(wind_chill())"
   ]
  },
  {
   "cell_type": "markdown",
   "metadata": {},
   "source": [
    "**29) Write a program that begins by reading a temperature from the user in degrees\n",
    "Celsius. Then your program should display the equivalent temperature in degrees\n",
    "Fahrenheit and degrees Kelvin. The calculations needed to convert between different\n",
    "units of temperature can be found on the internet.**"
   ]
  },
  {
   "cell_type": "code",
   "execution_count": 7,
   "metadata": {},
   "outputs": [
    {
     "name": "stdout",
     "output_type": "stream",
     "text": [
      "Enter the temperature in degree celcius: -10\n",
      "The temperature is 263.15 degrees in kelvin and 14.00 degrees in farenhiet.\n"
     ]
    }
   ],
   "source": [
    "def convertTemp():\n",
    "    cel = float(input(\"Enter the temperature in degree celcius: \"))\n",
    "    kelvin = cel + 273.15\n",
    "    farenhiet = (cel * (9/5)) + 32\n",
    "    return \"The temperature is {0:.2f} degrees in kelvin and {1:.2f} degrees in farenhiet.\".format(kelvin, farenhiet)\n",
    "print(convertTemp())\n",
    "    "
   ]
  },
  {
   "cell_type": "markdown",
   "metadata": {},
   "source": [
    "**30) In this exercise you will create a program that reads a pressure from the user in kilopascals. Once the pressure has been read your program should report the equivalent\n",
    "pressure in pounds per square inch, millimeters of mercury and atmospheres. Use\n",
    "your research skills to determine the conversion factors between these units.**"
   ]
  },
  {
   "cell_type": "code",
   "execution_count": 8,
   "metadata": {},
   "outputs": [
    {
     "name": "stdout",
     "output_type": "stream",
     "text": [
      "Enter the pressure in kilo pascals: 25\n",
      "The equivalent pressure is 172.37 psi, 3.33 mmHg and 2533.12 atm.\n"
     ]
    }
   ],
   "source": [
    "def pressure():\n",
    "    p = float(input(\"Enter the pressure in kilo pascals: \"))\n",
    "    psi = p / 0.145037738\n",
    "    mmHg = p / 7.50062\n",
    "    atm = p / 0.009869233\n",
    "    return \"The equivalent pressure is {0:.2f} psi, {1:.2f} mmHg and {2:.2f} atm.\".format(psi, mmHg, atm)\n",
    "print(pressure())"
   ]
  },
  {
   "cell_type": "markdown",
   "metadata": {},
   "source": [
    "**31) Develop a program that reads a four-digit integer from the user and displays the sum\n",
    "of the digits in the number. For example, if the user enters 3141 then your program\n",
    "should display 3+1+4+1=9.**"
   ]
  },
  {
   "cell_type": "code",
   "execution_count": 22,
   "metadata": {},
   "outputs": [
    {
     "name": "stdout",
     "output_type": "stream",
     "text": [
      "Enter the 4-digit integer: 4578\n",
      "4 + 5 + 7 + 8 = 24.\n"
     ]
    }
   ],
   "source": [
    "def sumOfDigits():\n",
    "    integer = int(input(\"Enter the 4-digit integer: \"))\n",
    "    digits = [int(d) for d in str(integer)]\n",
    "    sum_ = sum(digits)\n",
    "    return \"{0} + {1} + {2} + {3} = {4}.\".format(digits[0], digits[1], digits[2], digits[3],  sum_)\n",
    "print(sumOfDigits())"
   ]
  },
  {
   "cell_type": "markdown",
   "metadata": {},
   "source": [
    "**32) Create a program that reads three integers from the user and displays them in sorted\n",
    "order (from smallest to largest). Use the min and max functions to find the smallest\n",
    "and largest values. The middle value can be found by computing the sum of all three\n",
    "values, and then subtracting the minimum value and the maximum value.**"
   ]
  },
  {
   "cell_type": "code",
   "execution_count": 24,
   "metadata": {},
   "outputs": [
    {
     "name": "stdout",
     "output_type": "stream",
     "text": [
      "Enter the first number: 12\n",
      "Enter the second number: 0\n",
      "Enter the third number: 78\n",
      "The sorted order is 0.0 < 12.0 < 78.0\n"
     ]
    }
   ],
   "source": [
    "def sort3():\n",
    "    l1 = float(input(\"Enter the first number: \"))\n",
    "    l2 = float(input(\"Enter the second number: \"))\n",
    "    l3 = float(input(\"Enter the third number: \"))\n",
    "    l_ = [l1, l2, l3]\n",
    "    large = max(l_)\n",
    "    small = min(l_)\n",
    "    other = sum(l_) - large - small\n",
    "    \n",
    "    return \"The sorted order is {0} < {1} < {2}\".format(small, other, large)\n",
    "print(sort3())"
   ]
  },
  {
   "cell_type": "markdown",
   "metadata": {},
   "source": [
    "**33) A bakery sells loaves of bread for 3.49 dollar each. Day old bread is discounted by 60\n",
    "percent. Write a program that begins by reading the number of loaves of day old\n",
    "bread being purchased from the user. Then your program should display the regular\n",
    "price for the bread, the discount because it is a day old, and the total price. All of the\n",
    "values should be displayed using two decimal places, and the decimal points in all\n",
    "of the numbers should be aligned when reasonable values are entered by the user.**"
   ]
  },
  {
   "cell_type": "code",
   "execution_count": 25,
   "metadata": {},
   "outputs": [
    {
     "name": "stdout",
     "output_type": "stream",
     "text": [
      "How many day old breads you have purchased: 5\n",
      "The regular price is 3.49 dollar, discount is 60.00% and total price is 1.40 dollar\n"
     ]
    }
   ],
   "source": [
    "def day_old_bread():\n",
    "    br = int(input(\"How many day old breads you have purchased: \"))\n",
    "    price = 3.49\n",
    "    dis = 0.60\n",
    "    red = price * (1-dis)\n",
    "    return \"The regular price is {0:.2f} dollar, discount is {1:.2f}% and total price is {2:.2f} dollar\".format(price, dis*100, red)\n",
    "print(day_old_bread())"
   ]
  },
  {
   "cell_type": "code",
   "execution_count": null,
   "metadata": {
    "collapsed": true
   },
   "outputs": [],
   "source": []
  }
 ],
 "metadata": {
  "kernelspec": {
   "display_name": "Python 3",
   "language": "python",
   "name": "python3"
  },
  "language_info": {
   "codemirror_mode": {
    "name": "ipython",
    "version": 3
   },
   "file_extension": ".py",
   "mimetype": "text/x-python",
   "name": "python",
   "nbconvert_exporter": "python",
   "pygments_lexer": "ipython3",
   "version": "3.6.2"
  }
 },
 "nbformat": 4,
 "nbformat_minor": 2
}
